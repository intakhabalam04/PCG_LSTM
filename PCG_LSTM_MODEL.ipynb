{
 "cells": [
  {
   "cell_type": "markdown",
   "id": "521e91036e7c712a",
   "metadata": {
    "collapsed": false
   },
   "source": [
    "### This script processes heart sound audio files to classify them as normal or abnormal using MFCC features and a pre-trained neural network model. It loads, preprocesses, and splits the data into training, testing, and validation sets. The model is then evaluated on the test data to determine its accuracy. The dataset includes labeled heart sound files organized into normal and abnormal categories. Finally, the script prints the model's evaluation accuracy on the test set.\n"
   ]
  },
  {
   "cell_type": "code",
   "execution_count": null,
   "id": "ce1fd3d449008a8e",
   "metadata": {
    "collapsed": false
   },
   "outputs": [],
   "source": [
    "import librosa\n",
    "import numpy as np\n",
    "import os\n",
    "import fnmatch\n",
    "import librosa.display\n",
    "import tensorflow as tf\n",
    "from tensorflow.keras.models import load_model\n",
    "from sklearn.model_selection import train_test_split"
   ]
  },
  {
   "cell_type": "code",
   "execution_count": null,
   "id": "initial_id",
   "metadata": {
    "collapsed": true
   },
   "outputs": [],
   "source": [
    "def load_file_data(folder, file_names, duration=10, sr=22050):\n",
    "    input_length = sr * duration\n",
    "    data = []\n",
    "    for file_name in file_names:\n",
    "        try:\n",
    "            sound_file = folder + file_name\n",
    "            print(\"load file \", sound_file)\n",
    "            X, sr = librosa.load(sound_file, sr=sr, duration=duration)\n",
    "            dur = librosa.get_duration(y=X, sr=sr)\n",
    "            # pad audio file same duration\n",
    "            if (round(dur) < duration):\n",
    "                print(\"fixing audio length :\", file_name)\n",
    "                y = librosa.util.fix_length(X, size=input_length)\n",
    "                # extract normalized mfcc feature from data\n",
    "            mfccs = np.mean(librosa.feature.mfcc(y=X, sr=sr, n_mfcc=25).T, axis=0)\n",
    "        except Exception as e:\n",
    "            print(\"Error encountered while parsing file: \", e)\n",
    "        feature = np.array(mfccs).reshape([-1, 1])\n",
    "        data.append(feature)\n",
    "    return data\n"
   ]
  },
  {
   "cell_type": "code",
   "execution_count": null,
   "id": "d121f34a9da9fcc2",
   "metadata": {
    "collapsed": false
   },
   "outputs": [],
   "source": [
    "# simple encoding of categories\n",
    "# Normal \n",
    "# Abnormal\n",
    "\n",
    "# Map label text to integer\n",
    "CLASSES = ['normal', 'abnormal']\n",
    "NB_CLASSES = len(CLASSES)\n",
    "\n",
    "# Map integer value to text labels\n",
    "label_to_int = {k: v for v, k in enumerate(CLASSES)}\n",
    "print(label_to_int)\n",
    "print(\" \")\n",
    "int_to_label = {v: k for k, v in label_to_int.items()}\n",
    "print(int_to_label)"
   ]
  },
  {
   "cell_type": "code",
   "execution_count": null,
   "id": "cc28f89f02d4e55c",
   "metadata": {
    "collapsed": false
   },
   "outputs": [],
   "source": [
    "\n",
    "normal_files = fnmatch.filter(os.listdir('heart_sound_dataset/train/normal/'), '*.wav')\n",
    "normal_sounds = load_file_data(folder='heart_sound_dataset/train/normal/', file_names=normal_files)\n",
    "normal_labels = [0 for items in normal_files]\n",
    "\n",
    "abnormal_files = fnmatch.filter(os.listdir('heart_sound_dataset/train/abnormal/'), '*.wav')\n",
    "abnormal_sounds = load_file_data(folder='heart_sound_dataset/train/abnormal/', file_names=abnormal_files)\n",
    "abnormal_labels = [1 for items in abnormal_files]\n",
    "\n",
    "print(\"Loading Done\")\n"
   ]
  },
  {
   "cell_type": "code",
   "execution_count": null,
   "id": "b6c96e16e987eb02",
   "metadata": {
    "collapsed": false
   },
   "outputs": [],
   "source": [
    "\n",
    "normal_files_val = fnmatch.filter(os.listdir('heart_sound_dataset/val/normal/'), '*.wav')\n",
    "normal_sounds_val = load_file_data(folder='heart_sound_dataset/val/normal/', file_names=normal_files_val)\n",
    "normal_labels_val = [0 for items in normal_files_val]\n",
    "\n",
    "abnormal_files_val = fnmatch.filter(os.listdir('heart_sound_dataset/val/abnormal/'), '*.wav')\n",
    "abnormal_sounds_val = load_file_data(folder='heart_sound_dataset/val/abnormal/', file_names=abnormal_files_val)\n",
    "abnormal_labels_val = [1 for items in abnormal_files_val]\n",
    "\n",
    "print(\"Loading Done\")\n"
   ]
  },
  {
   "cell_type": "code",
   "execution_count": null,
   "id": "263a41f55293c729",
   "metadata": {
    "collapsed": false
   },
   "outputs": [],
   "source": [
    "#combine set-a and set-b \n",
    "x_data = np.concatenate((normal_sounds, abnormal_sounds))\n",
    "y_data = np.concatenate((normal_labels, abnormal_labels))\n",
    "\n",
    "x_train, x_test, y_train, y_test = train_test_split(x_data, y_data, train_size=0.8, random_state=42, shuffle=True)\n",
    "\n",
    "y_train = np.array(tf.keras.utils.to_categorical(y_train, len(CLASSES)))\n",
    "y_test = np.array(tf.keras.utils.to_categorical(y_test, len(CLASSES)))\n",
    "\n",
    "x_val = np.concatenate((normal_sounds_val, abnormal_sounds_val))\n",
    "y_val = np.array(tf.keras.utils.to_categorical(np.concatenate((normal_labels_val, abnormal_labels_val)), len(CLASSES)))\n",
    "\n",
    "\n",
    "print(\"combined training data record: \", len(x_train))\n",
    "print(\"combined test data record: \", len(x_test))\n",
    "print(\"combined validation data record: \", len(x_val))\n",
    "print('Total data: ', len(x_train)+len(x_val)+len(x_test))\n",
    "\n",
    "print()\n",
    "\n",
    "print(f'Training percentage : {round(len(x_train) / (len(x_train)+len(x_val)+len(x_test))*100)}%')\n",
    "print(f'Test percentage : {round(len(x_test) / (len(x_train)+len(x_val)+len(x_test))*100)}%')\n",
    "print(f'Validation percentage : {round(len(x_val) / (len(x_train)+len(x_val)+len(x_test))*100)}%')\n",
    "\n"
   ]
  },
  {
   "cell_type": "code",
   "execution_count": null,
   "id": "d47d16d73f6b323f",
   "metadata": {
    "collapsed": false
   },
   "outputs": [],
   "source": [
    "model = load_model('heart_sounds.h5')\n",
    "\n",
    "# scores = model.evaluate(x_train, y_train)\n",
    "scores = model.evaluate(x_test, y_test)\n",
    "\n",
    "print(\"Model evaluation accuracy: \", round(scores[1] * 100), \"%\")"
   ]
  },
  {
   "cell_type": "code",
   "execution_count": null,
   "id": "3353657282500e9e",
   "metadata": {
    "collapsed": false
   },
   "outputs": [],
   "source": []
  }
 ],
 "metadata": {
  "kernelspec": {
   "display_name": "Python 3",
   "language": "python",
   "name": "python3"
  },
  "language_info": {
   "codemirror_mode": {
    "name": "ipython",
    "version": 3
   },
   "file_extension": ".py",
   "mimetype": "text/x-python",
   "name": "python",
   "nbconvert_exporter": "python",
   "pygments_lexer": "ipython3",
   "version": "3.11.4"
  }
 },
 "nbformat": 4,
 "nbformat_minor": 5
}
